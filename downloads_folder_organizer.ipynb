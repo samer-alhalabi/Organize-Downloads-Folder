{
 "cells": [
  {
   "cell_type": "code",
   "execution_count": 2,
   "metadata": {},
   "outputs": [
    {
     "name": "stdout",
     "output_type": "stream",
     "text": [
      "Downloads folder is organized!\n"
     ]
    }
   ],
   "source": [
    "from os import listdir\n",
    "from os.path import isfile, join\n",
    "import os\n",
    "import shutil\n",
    "\n",
    "mypath= \"path to your Downloads folder\"\n",
    "\n",
    "def sort_files_in_a_folder(mypath):\n",
    "    '''\n",
    "    A function to sort the files in a download folder\n",
    "    into their respective categories\n",
    "    '''\n",
    "    files = [f for f in listdir(mypath) if isfile(join(mypath, f))]\n",
    "    file_type_variation_list=[]\n",
    "    filetype_folder_dict={}\n",
    "    \n",
    "    for file in files:\n",
    "        filetype=file.split('.')[-1]\n",
    "        if filetype not in file_type_variation_list:\n",
    "            file_type_variation_list.append(filetype)\n",
    "            new_folder_name=mypath+'/'+ filetype + '_folder'\n",
    "            filetype_folder_dict[str(filetype)]=str(new_folder_name)\n",
    "            if os.path.isdir(new_folder_name)==True:  #folder exists\n",
    "                continue\n",
    "            else:\n",
    "                os.mkdir(new_folder_name)\n",
    "    \n",
    "    for file in files:\n",
    "        src_path=mypath+'/'+file\n",
    "        filetype=file.split('.')[-1]\n",
    "        if filetype in filetype_folder_dict.keys():\n",
    "            dest_path=filetype_folder_dict[str(filetype)]\n",
    "            shutil.move(src_path,dest_path)\n",
    "            \n",
    "    print(src_path + '>>>' + dest_path)\n",
    "\n",
    "try:\n",
    "    sort_files_in_a_folder(mypath)\n",
    "except:\n",
    "    print(\"Downloads folder is organized!\")"
   ]
  },
  {
   "cell_type": "code",
   "execution_count": null,
   "metadata": {},
   "outputs": [],
   "source": []
  }
 ],
 "metadata": {
  "kernelspec": {
   "display_name": "Python 3",
   "language": "python",
   "name": "python3"
  },
  "language_info": {
   "codemirror_mode": {
    "name": "ipython",
    "version": 3
   },
   "file_extension": ".py",
   "mimetype": "text/x-python",
   "name": "python",
   "nbconvert_exporter": "python",
   "pygments_lexer": "ipython3",
   "version": "3.8.3"
  }
 },
 "nbformat": 4,
 "nbformat_minor": 2
}
